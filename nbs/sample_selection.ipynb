{
 "cells": [
  {
   "cell_type": "code",
   "execution_count": 1,
   "metadata": {},
   "outputs": [
    {
     "name": "stderr",
     "output_type": "stream",
     "text": [
      "/Users/xinsongdu/.pyenv/versions/miniconda3-latest/lib/python3.6/importlib/_bootstrap.py:219: RuntimeWarning: numpy.dtype size changed, may indicate binary incompatibility. Expected 96, got 88\n",
      "  return f(*args, **kwds)\n"
     ]
    }
   ],
   "source": [
    "from pandas_summary import DataFrameSummary\n",
    "import redcap\n",
    "import pandas as pd\n",
    "import numpy as np\n",
    "import macos_keychain\n",
    "import re\n",
    "import os"
   ]
  },
  {
   "cell_type": "markdown",
   "metadata": {},
   "source": [
    "---\n",
    "# Task1: \n",
    "Extract mom-ids and baby-ids that have both prenatal visit and postnatal visit, non-missing value of mom's gestational age, baby's birth weight, and baby's date of birth"
   ]
  },
  {
   "cell_type": "markdown",
   "metadata": {},
   "source": [
    "## Using Dropbox Data"
   ]
  },
  {
   "cell_type": "markdown",
   "metadata": {},
   "source": [
    "#### Remove babies with any missing value of gestational age, baby's birth or baby's DOB"
   ]
  },
  {
   "cell_type": "code",
   "execution_count": 10,
   "metadata": {},
   "outputs": [],
   "source": [
    "baby = pd.read_excel(io=\"../data/Baby.xlsx\", sheet_name=\"Baby\")"
   ]
  },
  {
   "cell_type": "code",
   "execution_count": 11,
   "metadata": {},
   "outputs": [
    {
     "data": {
      "text/plain": [
       "(16684, 10)"
      ]
     },
     "execution_count": 11,
     "metadata": {},
     "output_type": "execute_result"
    }
   ],
   "source": [
    "baby.shape"
   ]
  },
  {
   "cell_type": "code",
   "execution_count": 12,
   "metadata": {},
   "outputs": [],
   "source": [
    "baby.dropna(subset = [\"DOB\", \"Birth Weight (grams)\", \"Gestational_Age\"], inplace=True)"
   ]
  },
  {
   "cell_type": "code",
   "execution_count": 13,
   "metadata": {},
   "outputs": [
    {
     "data": {
      "text/plain": [
       "(15829, 10)"
      ]
     },
     "execution_count": 13,
     "metadata": {},
     "output_type": "execute_result"
    }
   ],
   "source": [
    "baby.shape"
   ]
  },
  {
   "cell_type": "markdown",
   "metadata": {},
   "source": [
    "#### Extract baby-ids"
   ]
  },
  {
   "cell_type": "code",
   "execution_count": 14,
   "metadata": {},
   "outputs": [],
   "source": [
    "included_baby_ids = baby[\"Baby-Id\"].unique()"
   ]
  },
  {
   "cell_type": "code",
   "execution_count": 24,
   "metadata": {},
   "outputs": [
    {
     "data": {
      "text/plain": [
       "array(['Baby-0616', 'Baby-0002', 'Baby-0003', ..., 'Baby-16675',\n",
       "       'Baby-16676', 'Baby-16677'], dtype=object)"
      ]
     },
     "execution_count": 24,
     "metadata": {},
     "output_type": "execute_result"
    }
   ],
   "source": [
    "included_baby_ids"
   ]
  },
  {
   "cell_type": "code",
   "execution_count": 23,
   "metadata": {},
   "outputs": [
    {
     "data": {
      "text/plain": [
       "(15829,)"
      ]
     },
     "execution_count": 23,
     "metadata": {},
     "output_type": "execute_result"
    }
   ],
   "source": [
    "included_baby_ids.shape"
   ]
  },
  {
   "cell_type": "markdown",
   "metadata": {},
   "source": [
    "#### Extract mom-ids"
   ]
  },
  {
   "cell_type": "code",
   "execution_count": 15,
   "metadata": {},
   "outputs": [],
   "source": [
    "mom_baby_link = pd.read_excel(io=\"../data/Baby.xlsx\", sheet_name=\"Baby-Mom Link\")"
   ]
  },
  {
   "cell_type": "code",
   "execution_count": 16,
   "metadata": {},
   "outputs": [
    {
     "data": {
      "text/html": [
       "<div>\n",
       "<style scoped>\n",
       "    .dataframe tbody tr th:only-of-type {\n",
       "        vertical-align: middle;\n",
       "    }\n",
       "\n",
       "    .dataframe tbody tr th {\n",
       "        vertical-align: top;\n",
       "    }\n",
       "\n",
       "    .dataframe thead th {\n",
       "        text-align: right;\n",
       "    }\n",
       "</style>\n",
       "<table border=\"1\" class=\"dataframe\">\n",
       "  <thead>\n",
       "    <tr style=\"text-align: right;\">\n",
       "      <th></th>\n",
       "      <th>Baby-Id</th>\n",
       "      <th>Mom-Id</th>\n",
       "    </tr>\n",
       "  </thead>\n",
       "  <tbody>\n",
       "    <tr>\n",
       "      <th>0</th>\n",
       "      <td>Baby-0001</td>\n",
       "      <td>Mom-4388</td>\n",
       "    </tr>\n",
       "    <tr>\n",
       "      <th>1</th>\n",
       "      <td>Baby-0002</td>\n",
       "      <td>Mom-1829</td>\n",
       "    </tr>\n",
       "    <tr>\n",
       "      <th>2</th>\n",
       "      <td>Baby-0003</td>\n",
       "      <td>Mom-8494</td>\n",
       "    </tr>\n",
       "    <tr>\n",
       "      <th>3</th>\n",
       "      <td>Baby-0004</td>\n",
       "      <td>Mom-0320</td>\n",
       "    </tr>\n",
       "    <tr>\n",
       "      <th>4</th>\n",
       "      <td>Baby-0005</td>\n",
       "      <td>Mom-6297</td>\n",
       "    </tr>\n",
       "  </tbody>\n",
       "</table>\n",
       "</div>"
      ],
      "text/plain": [
       "     Baby-Id    Mom-Id\n",
       "0  Baby-0001  Mom-4388\n",
       "1  Baby-0002  Mom-1829\n",
       "2  Baby-0003  Mom-8494\n",
       "3  Baby-0004  Mom-0320\n",
       "4  Baby-0005  Mom-6297"
      ]
     },
     "execution_count": 16,
     "metadata": {},
     "output_type": "execute_result"
    }
   ],
   "source": [
    "mom_baby_link.head()"
   ]
  },
  {
   "cell_type": "code",
   "execution_count": 19,
   "metadata": {},
   "outputs": [],
   "source": [
    "included_mom_ids = mom_baby_link[mom_baby_link[\"Baby-Id\"].isin(included_baby_ids)][\"Mom-Id\"].unique()"
   ]
  },
  {
   "cell_type": "code",
   "execution_count": 25,
   "metadata": {},
   "outputs": [
    {
     "data": {
      "text/plain": [
       "array(['Mom-4388', 'Mom-1829', 'Mom-8494', ..., 'Mom-3097', 'Mom-11509',\n",
       "       'Mom-11014'], dtype=object)"
      ]
     },
     "execution_count": 25,
     "metadata": {},
     "output_type": "execute_result"
    }
   ],
   "source": [
    "included_mom_ids"
   ]
  },
  {
   "cell_type": "code",
   "execution_count": 26,
   "metadata": {},
   "outputs": [
    {
     "data": {
      "text/plain": [
       "(13251,)"
      ]
     },
     "execution_count": 26,
     "metadata": {},
     "output_type": "execute_result"
    }
   ],
   "source": [
    "included_mom_ids.shape"
   ]
  },
  {
   "cell_type": "markdown",
   "metadata": {},
   "source": [
    "## Save Extracted IDs to Pickle"
   ]
  },
  {
   "cell_type": "code",
   "execution_count": 30,
   "metadata": {},
   "outputs": [],
   "source": [
    "np.save(\"selected_mom_ids.npy\", included_mom_ids)\n",
    "np.save(\"selected_baby_ids.npy\", included_baby_ids)"
   ]
  },
  {
   "cell_type": "markdown",
   "metadata": {},
   "source": [
    "---\n",
    "# Task2: \n",
    "look at mom-baby EHR to find out how many women deliver between May-August on average. Then subset to include gestational ages > 27 weeks to exclude very preterm babies."
   ]
  },
  {
   "cell_type": "code",
   "execution_count": 2,
   "metadata": {},
   "outputs": [],
   "source": [
    "baby = pd.read_excel(io=\"../data/Baby.xlsx\", sheet_name=\"Baby\")"
   ]
  },
  {
   "cell_type": "code",
   "execution_count": 3,
   "metadata": {},
   "outputs": [],
   "source": [
    "link = pd.read_excel(io=\"../data/Baby.xlsx\", sheet_name=\"Mom-Baby\")"
   ]
  },
  {
   "cell_type": "code",
   "execution_count": 4,
   "metadata": {},
   "outputs": [
    {
     "data": {
      "text/html": [
       "<div>\n",
       "<style scoped>\n",
       "    .dataframe tbody tr th:only-of-type {\n",
       "        vertical-align: middle;\n",
       "    }\n",
       "\n",
       "    .dataframe tbody tr th {\n",
       "        vertical-align: top;\n",
       "    }\n",
       "\n",
       "    .dataframe thead th {\n",
       "        text-align: right;\n",
       "    }\n",
       "</style>\n",
       "<table border=\"1\" class=\"dataframe\">\n",
       "  <thead>\n",
       "    <tr style=\"text-align: right;\">\n",
       "      <th></th>\n",
       "      <th>Baby-Id</th>\n",
       "      <th>Race</th>\n",
       "      <th>Ethnicity</th>\n",
       "      <th>DOB</th>\n",
       "      <th>Birth Weight (grams)</th>\n",
       "      <th>Delivery_Mode</th>\n",
       "      <th>Admit Date</th>\n",
       "      <th>Admit Source</th>\n",
       "      <th>Gestational_Age</th>\n",
       "      <th>NICU LOS</th>\n",
       "    </tr>\n",
       "  </thead>\n",
       "  <tbody>\n",
       "    <tr>\n",
       "      <th>0</th>\n",
       "      <td>Baby-0616</td>\n",
       "      <td>WHITE</td>\n",
       "      <td>NOT HISPANIC</td>\n",
       "      <td>1902-01-01</td>\n",
       "      <td>3627.0</td>\n",
       "      <td>C-Section, Low Transverse</td>\n",
       "      <td>2011-12-15</td>\n",
       "      <td>INTRAMURAL BIRTH</td>\n",
       "      <td>39 4/7</td>\n",
       "      <td>NaN</td>\n",
       "    </tr>\n",
       "    <tr>\n",
       "      <th>1</th>\n",
       "      <td>Baby-0002</td>\n",
       "      <td>WHITE</td>\n",
       "      <td>NOT HISPANIC</td>\n",
       "      <td>2011-06-01</td>\n",
       "      <td>3417.0</td>\n",
       "      <td>Vaginal, Spontaneous Delivery</td>\n",
       "      <td>2011-06-01</td>\n",
       "      <td>INTRAMURAL BIRTH</td>\n",
       "      <td>38 3/7</td>\n",
       "      <td>NaN</td>\n",
       "    </tr>\n",
       "    <tr>\n",
       "      <th>2</th>\n",
       "      <td>Baby-0003</td>\n",
       "      <td>MULTIRACIAL</td>\n",
       "      <td>HISPANIC</td>\n",
       "      <td>2011-06-01</td>\n",
       "      <td>3383.0</td>\n",
       "      <td>C-Section, Low Transverse</td>\n",
       "      <td>2011-06-01</td>\n",
       "      <td>INTRAMURAL BIRTH</td>\n",
       "      <td>40 4/7</td>\n",
       "      <td>NaN</td>\n",
       "    </tr>\n",
       "    <tr>\n",
       "      <th>3</th>\n",
       "      <td>Baby-0005</td>\n",
       "      <td>WHITE</td>\n",
       "      <td>NOT HISPANIC</td>\n",
       "      <td>2011-06-01</td>\n",
       "      <td>3882.0</td>\n",
       "      <td>Vaginal, Spontaneous Delivery</td>\n",
       "      <td>2011-06-01</td>\n",
       "      <td>INTRAMURAL BIRTH</td>\n",
       "      <td>NaN</td>\n",
       "      <td>NaN</td>\n",
       "    </tr>\n",
       "    <tr>\n",
       "      <th>4</th>\n",
       "      <td>Baby-0006</td>\n",
       "      <td>WHITE</td>\n",
       "      <td>NOT HISPANIC</td>\n",
       "      <td>2011-06-01</td>\n",
       "      <td>3710.0</td>\n",
       "      <td>Vaginal, Spontaneous Delivery</td>\n",
       "      <td>2011-06-01</td>\n",
       "      <td>INTRAMURAL BIRTH</td>\n",
       "      <td>39 6/7</td>\n",
       "      <td>NaN</td>\n",
       "    </tr>\n",
       "  </tbody>\n",
       "</table>\n",
       "</div>"
      ],
      "text/plain": [
       "     Baby-Id         Race     Ethnicity        DOB  Birth Weight (grams)  \\\n",
       "0  Baby-0616        WHITE  NOT HISPANIC 1902-01-01                3627.0   \n",
       "1  Baby-0002        WHITE  NOT HISPANIC 2011-06-01                3417.0   \n",
       "2  Baby-0003  MULTIRACIAL      HISPANIC 2011-06-01                3383.0   \n",
       "3  Baby-0005        WHITE  NOT HISPANIC 2011-06-01                3882.0   \n",
       "4  Baby-0006        WHITE  NOT HISPANIC 2011-06-01                3710.0   \n",
       "\n",
       "                   Delivery_Mode Admit Date      Admit Source Gestational_Age  \\\n",
       "0      C-Section, Low Transverse 2011-12-15  INTRAMURAL BIRTH          39 4/7   \n",
       "1  Vaginal, Spontaneous Delivery 2011-06-01  INTRAMURAL BIRTH          38 3/7   \n",
       "2      C-Section, Low Transverse 2011-06-01  INTRAMURAL BIRTH          40 4/7   \n",
       "3  Vaginal, Spontaneous Delivery 2011-06-01  INTRAMURAL BIRTH             NaN   \n",
       "4  Vaginal, Spontaneous Delivery 2011-06-01  INTRAMURAL BIRTH          39 6/7   \n",
       "\n",
       "   NICU LOS  \n",
       "0       NaN  \n",
       "1       NaN  \n",
       "2       NaN  \n",
       "3       NaN  \n",
       "4       NaN  "
      ]
     },
     "execution_count": 4,
     "metadata": {},
     "output_type": "execute_result"
    }
   ],
   "source": [
    "baby.head()"
   ]
  },
  {
   "cell_type": "code",
   "execution_count": 5,
   "metadata": {},
   "outputs": [
    {
     "data": {
      "text/html": [
       "<div>\n",
       "<style scoped>\n",
       "    .dataframe tbody tr th:only-of-type {\n",
       "        vertical-align: middle;\n",
       "    }\n",
       "\n",
       "    .dataframe tbody tr th {\n",
       "        vertical-align: top;\n",
       "    }\n",
       "\n",
       "    .dataframe thead th {\n",
       "        text-align: right;\n",
       "    }\n",
       "</style>\n",
       "<table border=\"1\" class=\"dataframe\">\n",
       "  <thead>\n",
       "    <tr style=\"text-align: right;\">\n",
       "      <th></th>\n",
       "      <th>Baby-Id</th>\n",
       "      <th>Baby Gender</th>\n",
       "      <th>Mom-Id</th>\n",
       "      <th>Mom Age</th>\n",
       "      <th>Payer</th>\n",
       "    </tr>\n",
       "  </thead>\n",
       "  <tbody>\n",
       "    <tr>\n",
       "      <th>0</th>\n",
       "      <td>Baby-0001</td>\n",
       "      <td>MALE</td>\n",
       "      <td>Mom-4388</td>\n",
       "      <td>25</td>\n",
       "      <td>Blue Cross</td>\n",
       "    </tr>\n",
       "    <tr>\n",
       "      <th>1</th>\n",
       "      <td>Baby-0002</td>\n",
       "      <td>FEMALE</td>\n",
       "      <td>Mom-1829</td>\n",
       "      <td>21</td>\n",
       "      <td>Medicaid</td>\n",
       "    </tr>\n",
       "    <tr>\n",
       "      <th>2</th>\n",
       "      <td>Baby-0003</td>\n",
       "      <td>MALE</td>\n",
       "      <td>Mom-8494</td>\n",
       "      <td>19</td>\n",
       "      <td>Medicaid</td>\n",
       "    </tr>\n",
       "    <tr>\n",
       "      <th>3</th>\n",
       "      <td>Baby-0004</td>\n",
       "      <td>FEMALE</td>\n",
       "      <td>Mom-0320</td>\n",
       "      <td>30</td>\n",
       "      <td>Medicaid</td>\n",
       "    </tr>\n",
       "    <tr>\n",
       "      <th>4</th>\n",
       "      <td>Baby-0005</td>\n",
       "      <td>FEMALE</td>\n",
       "      <td>Mom-6297</td>\n",
       "      <td>26</td>\n",
       "      <td>Medicaid</td>\n",
       "    </tr>\n",
       "  </tbody>\n",
       "</table>\n",
       "</div>"
      ],
      "text/plain": [
       "     Baby-Id Baby Gender    Mom-Id  Mom Age       Payer\n",
       "0  Baby-0001        MALE  Mom-4388       25  Blue Cross\n",
       "1  Baby-0002      FEMALE  Mom-1829       21    Medicaid\n",
       "2  Baby-0003        MALE  Mom-8494       19    Medicaid\n",
       "3  Baby-0004      FEMALE  Mom-0320       30    Medicaid\n",
       "4  Baby-0005      FEMALE  Mom-6297       26    Medicaid"
      ]
     },
     "execution_count": 5,
     "metadata": {},
     "output_type": "execute_result"
    }
   ],
   "source": [
    "link.head()"
   ]
  },
  {
   "cell_type": "code",
   "execution_count": 11,
   "metadata": {},
   "outputs": [
    {
     "data": {
      "text/plain": [
       "16684"
      ]
     },
     "execution_count": 11,
     "metadata": {},
     "output_type": "execute_result"
    }
   ],
   "source": [
    "len(set(baby[\"Baby-Id\"]))"
   ]
  },
  {
   "cell_type": "code",
   "execution_count": 12,
   "metadata": {},
   "outputs": [
    {
     "data": {
      "text/plain": [
       "16649"
      ]
     },
     "execution_count": 12,
     "metadata": {},
     "output_type": "execute_result"
    }
   ],
   "source": [
    "len(set(link[\"Baby-Id\"]))"
   ]
  },
  {
   "cell_type": "code",
   "execution_count": 13,
   "metadata": {},
   "outputs": [
    {
     "data": {
      "text/plain": [
       "{'Baby-0197',\n",
       " 'Baby-0257',\n",
       " 'Baby-10041',\n",
       " 'Baby-10118',\n",
       " 'Baby-10892',\n",
       " 'Baby-11289',\n",
       " 'Baby-11344',\n",
       " 'Baby-11345',\n",
       " 'Baby-11539',\n",
       " 'Baby-11659',\n",
       " 'Baby-11820',\n",
       " 'Baby-12160',\n",
       " 'Baby-12311',\n",
       " 'Baby-12743',\n",
       " 'Baby-12859',\n",
       " 'Baby-1320',\n",
       " 'Baby-13688',\n",
       " 'Baby-15539',\n",
       " 'Baby-15789',\n",
       " 'Baby-1868',\n",
       " 'Baby-2346',\n",
       " 'Baby-2381',\n",
       " 'Baby-2545',\n",
       " 'Baby-2804',\n",
       " 'Baby-2831',\n",
       " 'Baby-2839',\n",
       " 'Baby-3190',\n",
       " 'Baby-3409',\n",
       " 'Baby-3411',\n",
       " 'Baby-3646',\n",
       " 'Baby-3647',\n",
       " 'Baby-3871',\n",
       " 'Baby-4060',\n",
       " 'Baby-4340',\n",
       " 'Baby-4431',\n",
       " 'Baby-4595',\n",
       " 'Baby-4873',\n",
       " 'Baby-4882',\n",
       " 'Baby-6023',\n",
       " 'Baby-6200',\n",
       " 'Baby-6203',\n",
       " 'Baby-6219',\n",
       " 'Baby-6244',\n",
       " 'Baby-6347',\n",
       " 'Baby-6438',\n",
       " 'Baby-6454',\n",
       " 'Baby-6577',\n",
       " 'Baby-6688',\n",
       " 'Baby-6719',\n",
       " 'Baby-6797',\n",
       " 'Baby-6803',\n",
       " 'Baby-7314',\n",
       " 'Baby-7478',\n",
       " 'Baby-7481',\n",
       " 'Baby-7632',\n",
       " 'Baby-8273',\n",
       " 'Baby-8296',\n",
       " 'Baby-8369',\n",
       " 'Baby-9057',\n",
       " 'Baby-9328',\n",
       " 'Baby-9424',\n",
       " 'Baby-9837'}"
      ]
     },
     "execution_count": 13,
     "metadata": {},
     "output_type": "execute_result"
    }
   ],
   "source": [
    "set(baby[\"Baby-Id\"]) - set(link[\"Baby-Id\"])"
   ]
  },
  {
   "cell_type": "code",
   "execution_count": 8,
   "metadata": {},
   "outputs": [
    {
     "data": {
      "text/html": [
       "<div>\n",
       "<style scoped>\n",
       "    .dataframe tbody tr th:only-of-type {\n",
       "        vertical-align: middle;\n",
       "    }\n",
       "\n",
       "    .dataframe tbody tr th {\n",
       "        vertical-align: top;\n",
       "    }\n",
       "\n",
       "    .dataframe thead th {\n",
       "        text-align: right;\n",
       "    }\n",
       "</style>\n",
       "<table border=\"1\" class=\"dataframe\">\n",
       "  <thead>\n",
       "    <tr style=\"text-align: right;\">\n",
       "      <th></th>\n",
       "      <th>Baby-Id</th>\n",
       "      <th>Race</th>\n",
       "      <th>Ethnicity</th>\n",
       "      <th>DOB</th>\n",
       "      <th>Birth Weight (grams)</th>\n",
       "      <th>Delivery_Mode</th>\n",
       "      <th>Admit Date</th>\n",
       "      <th>Admit Source</th>\n",
       "      <th>Gestational_Age</th>\n",
       "      <th>NICU LOS</th>\n",
       "    </tr>\n",
       "  </thead>\n",
       "  <tbody>\n",
       "    <tr>\n",
       "      <th>16679</th>\n",
       "      <td>Baby-16673</td>\n",
       "      <td>BLACK</td>\n",
       "      <td>NOT HISPANIC</td>\n",
       "      <td>2017-04-29</td>\n",
       "      <td>2750.0</td>\n",
       "      <td>Vaginal, Spontaneous Delivery</td>\n",
       "      <td>2017-04-29</td>\n",
       "      <td>INTRAMURAL BIRTH</td>\n",
       "      <td>38 6/7</td>\n",
       "      <td>NaN</td>\n",
       "    </tr>\n",
       "    <tr>\n",
       "      <th>16680</th>\n",
       "      <td>Baby-16674</td>\n",
       "      <td>WHITE</td>\n",
       "      <td>NOT HISPANIC</td>\n",
       "      <td>2017-04-29</td>\n",
       "      <td>3302.0</td>\n",
       "      <td>Vaginal, Spontaneous Delivery</td>\n",
       "      <td>2017-04-29</td>\n",
       "      <td>INTRAMURAL BIRTH</td>\n",
       "      <td>38 6/7</td>\n",
       "      <td>NaN</td>\n",
       "    </tr>\n",
       "    <tr>\n",
       "      <th>16681</th>\n",
       "      <td>Baby-16675</td>\n",
       "      <td>BLACK</td>\n",
       "      <td>NOT HISPANIC</td>\n",
       "      <td>2017-04-30</td>\n",
       "      <td>2981.0</td>\n",
       "      <td>Vaginal, Spontaneous Delivery</td>\n",
       "      <td>2017-04-30</td>\n",
       "      <td>INTRAMURAL BIRTH</td>\n",
       "      <td>39 2/7</td>\n",
       "      <td>NaN</td>\n",
       "    </tr>\n",
       "    <tr>\n",
       "      <th>16682</th>\n",
       "      <td>Baby-16676</td>\n",
       "      <td>BLACK</td>\n",
       "      <td>NOT HISPANIC</td>\n",
       "      <td>2017-04-30</td>\n",
       "      <td>3165.0</td>\n",
       "      <td>Vaginal, Spontaneous Delivery</td>\n",
       "      <td>2017-04-30</td>\n",
       "      <td>INTRAMURAL BIRTH</td>\n",
       "      <td>41</td>\n",
       "      <td>NaN</td>\n",
       "    </tr>\n",
       "    <tr>\n",
       "      <th>16683</th>\n",
       "      <td>Baby-16677</td>\n",
       "      <td>WHITE</td>\n",
       "      <td>NOT HISPANIC</td>\n",
       "      <td>2017-04-30</td>\n",
       "      <td>4310.0</td>\n",
       "      <td>Vaginal, Spontaneous Delivery</td>\n",
       "      <td>2017-04-30</td>\n",
       "      <td>INTRAMURAL BIRTH</td>\n",
       "      <td>39 6/7</td>\n",
       "      <td>NaN</td>\n",
       "    </tr>\n",
       "  </tbody>\n",
       "</table>\n",
       "</div>"
      ],
      "text/plain": [
       "          Baby-Id   Race     Ethnicity        DOB  Birth Weight (grams)  \\\n",
       "16679  Baby-16673  BLACK  NOT HISPANIC 2017-04-29                2750.0   \n",
       "16680  Baby-16674  WHITE  NOT HISPANIC 2017-04-29                3302.0   \n",
       "16681  Baby-16675  BLACK  NOT HISPANIC 2017-04-30                2981.0   \n",
       "16682  Baby-16676  BLACK  NOT HISPANIC 2017-04-30                3165.0   \n",
       "16683  Baby-16677  WHITE  NOT HISPANIC 2017-04-30                4310.0   \n",
       "\n",
       "                       Delivery_Mode Admit Date      Admit Source  \\\n",
       "16679  Vaginal, Spontaneous Delivery 2017-04-29  INTRAMURAL BIRTH   \n",
       "16680  Vaginal, Spontaneous Delivery 2017-04-29  INTRAMURAL BIRTH   \n",
       "16681  Vaginal, Spontaneous Delivery 2017-04-30  INTRAMURAL BIRTH   \n",
       "16682  Vaginal, Spontaneous Delivery 2017-04-30  INTRAMURAL BIRTH   \n",
       "16683  Vaginal, Spontaneous Delivery 2017-04-30  INTRAMURAL BIRTH   \n",
       "\n",
       "      Gestational_Age  NICU LOS  \n",
       "16679          38 6/7       NaN  \n",
       "16680          38 6/7       NaN  \n",
       "16681          39 2/7       NaN  \n",
       "16682              41       NaN  \n",
       "16683          39 6/7       NaN  "
      ]
     },
     "execution_count": 8,
     "metadata": {},
     "output_type": "execute_result"
    }
   ],
   "source": [
    "baby.tail()"
   ]
  },
  {
   "cell_type": "code",
   "execution_count": 9,
   "metadata": {},
   "outputs": [
    {
     "data": {
      "text/html": [
       "<div>\n",
       "<style scoped>\n",
       "    .dataframe tbody tr th:only-of-type {\n",
       "        vertical-align: middle;\n",
       "    }\n",
       "\n",
       "    .dataframe tbody tr th {\n",
       "        vertical-align: top;\n",
       "    }\n",
       "\n",
       "    .dataframe thead th {\n",
       "        text-align: right;\n",
       "    }\n",
       "</style>\n",
       "<table border=\"1\" class=\"dataframe\">\n",
       "  <thead>\n",
       "    <tr style=\"text-align: right;\">\n",
       "      <th></th>\n",
       "      <th>Baby-Id</th>\n",
       "      <th>Baby Gender</th>\n",
       "      <th>Mom-Id</th>\n",
       "      <th>Mom Age</th>\n",
       "      <th>Payer</th>\n",
       "    </tr>\n",
       "  </thead>\n",
       "  <tbody>\n",
       "    <tr>\n",
       "      <th>16644</th>\n",
       "      <td>Baby-9995</td>\n",
       "      <td>FEMALE</td>\n",
       "      <td>Mom-8809</td>\n",
       "      <td>28</td>\n",
       "      <td>Blue Cross</td>\n",
       "    </tr>\n",
       "    <tr>\n",
       "      <th>16645</th>\n",
       "      <td>Baby-9996</td>\n",
       "      <td>FEMALE</td>\n",
       "      <td>Mom-3097</td>\n",
       "      <td>31</td>\n",
       "      <td>Blue Cross</td>\n",
       "    </tr>\n",
       "    <tr>\n",
       "      <th>16646</th>\n",
       "      <td>Baby-9997</td>\n",
       "      <td>FEMALE</td>\n",
       "      <td>Mom-11509</td>\n",
       "      <td>28</td>\n",
       "      <td>Blue Cross</td>\n",
       "    </tr>\n",
       "    <tr>\n",
       "      <th>16647</th>\n",
       "      <td>Baby-9998</td>\n",
       "      <td>FEMALE</td>\n",
       "      <td>Mom-11014</td>\n",
       "      <td>36</td>\n",
       "      <td>Managed Care</td>\n",
       "    </tr>\n",
       "    <tr>\n",
       "      <th>16648</th>\n",
       "      <td>Baby-9999</td>\n",
       "      <td>MALE</td>\n",
       "      <td>Mom-5254</td>\n",
       "      <td>29</td>\n",
       "      <td>Blue Cross</td>\n",
       "    </tr>\n",
       "  </tbody>\n",
       "</table>\n",
       "</div>"
      ],
      "text/plain": [
       "         Baby-Id Baby Gender     Mom-Id  Mom Age         Payer\n",
       "16644  Baby-9995      FEMALE   Mom-8809       28    Blue Cross\n",
       "16645  Baby-9996      FEMALE   Mom-3097       31    Blue Cross\n",
       "16646  Baby-9997      FEMALE  Mom-11509       28    Blue Cross\n",
       "16647  Baby-9998      FEMALE  Mom-11014       36  Managed Care\n",
       "16648  Baby-9999        MALE   Mom-5254       29    Blue Cross"
      ]
     },
     "execution_count": 9,
     "metadata": {},
     "output_type": "execute_result"
    }
   ],
   "source": [
    "link.tail()"
   ]
  },
  {
   "cell_type": "code",
   "execution_count": 14,
   "metadata": {},
   "outputs": [],
   "source": [
    "# merge two dataframe\n",
    "data = baby.merge(link, on=\"Baby-Id\")"
   ]
  },
  {
   "cell_type": "code",
   "execution_count": 15,
   "metadata": {},
   "outputs": [
    {
     "data": {
      "text/plain": [
       "16622"
      ]
     },
     "execution_count": 15,
     "metadata": {},
     "output_type": "execute_result"
    }
   ],
   "source": [
    "len(data)"
   ]
  },
  {
   "cell_type": "code",
   "execution_count": 16,
   "metadata": {},
   "outputs": [
    {
     "data": {
      "text/html": [
       "<div>\n",
       "<style scoped>\n",
       "    .dataframe tbody tr th:only-of-type {\n",
       "        vertical-align: middle;\n",
       "    }\n",
       "\n",
       "    .dataframe tbody tr th {\n",
       "        vertical-align: top;\n",
       "    }\n",
       "\n",
       "    .dataframe thead th {\n",
       "        text-align: right;\n",
       "    }\n",
       "</style>\n",
       "<table border=\"1\" class=\"dataframe\">\n",
       "  <thead>\n",
       "    <tr style=\"text-align: right;\">\n",
       "      <th></th>\n",
       "      <th>Baby-Id</th>\n",
       "      <th>Race</th>\n",
       "      <th>Ethnicity</th>\n",
       "      <th>DOB</th>\n",
       "      <th>Birth Weight (grams)</th>\n",
       "      <th>Delivery_Mode</th>\n",
       "      <th>Admit Date</th>\n",
       "      <th>Admit Source</th>\n",
       "      <th>Gestational_Age</th>\n",
       "      <th>NICU LOS</th>\n",
       "      <th>Baby Gender</th>\n",
       "      <th>Mom-Id</th>\n",
       "      <th>Mom Age</th>\n",
       "      <th>Payer</th>\n",
       "    </tr>\n",
       "  </thead>\n",
       "  <tbody>\n",
       "    <tr>\n",
       "      <th>0</th>\n",
       "      <td>Baby-0616</td>\n",
       "      <td>WHITE</td>\n",
       "      <td>NOT HISPANIC</td>\n",
       "      <td>1902-01-01</td>\n",
       "      <td>3627.0</td>\n",
       "      <td>C-Section, Low Transverse</td>\n",
       "      <td>2011-12-15</td>\n",
       "      <td>INTRAMURAL BIRTH</td>\n",
       "      <td>39 4/7</td>\n",
       "      <td>NaN</td>\n",
       "      <td>MALE</td>\n",
       "      <td>Mom-2592</td>\n",
       "      <td>29</td>\n",
       "      <td>Medicaid</td>\n",
       "    </tr>\n",
       "    <tr>\n",
       "      <th>1</th>\n",
       "      <td>Baby-0002</td>\n",
       "      <td>WHITE</td>\n",
       "      <td>NOT HISPANIC</td>\n",
       "      <td>2011-06-01</td>\n",
       "      <td>3417.0</td>\n",
       "      <td>Vaginal, Spontaneous Delivery</td>\n",
       "      <td>2011-06-01</td>\n",
       "      <td>INTRAMURAL BIRTH</td>\n",
       "      <td>38 3/7</td>\n",
       "      <td>NaN</td>\n",
       "      <td>FEMALE</td>\n",
       "      <td>Mom-1829</td>\n",
       "      <td>21</td>\n",
       "      <td>Medicaid</td>\n",
       "    </tr>\n",
       "    <tr>\n",
       "      <th>2</th>\n",
       "      <td>Baby-0003</td>\n",
       "      <td>MULTIRACIAL</td>\n",
       "      <td>HISPANIC</td>\n",
       "      <td>2011-06-01</td>\n",
       "      <td>3383.0</td>\n",
       "      <td>C-Section, Low Transverse</td>\n",
       "      <td>2011-06-01</td>\n",
       "      <td>INTRAMURAL BIRTH</td>\n",
       "      <td>40 4/7</td>\n",
       "      <td>NaN</td>\n",
       "      <td>MALE</td>\n",
       "      <td>Mom-8494</td>\n",
       "      <td>19</td>\n",
       "      <td>Medicaid</td>\n",
       "    </tr>\n",
       "    <tr>\n",
       "      <th>3</th>\n",
       "      <td>Baby-0005</td>\n",
       "      <td>WHITE</td>\n",
       "      <td>NOT HISPANIC</td>\n",
       "      <td>2011-06-01</td>\n",
       "      <td>3882.0</td>\n",
       "      <td>Vaginal, Spontaneous Delivery</td>\n",
       "      <td>2011-06-01</td>\n",
       "      <td>INTRAMURAL BIRTH</td>\n",
       "      <td>NaN</td>\n",
       "      <td>NaN</td>\n",
       "      <td>FEMALE</td>\n",
       "      <td>Mom-6297</td>\n",
       "      <td>26</td>\n",
       "      <td>Medicaid</td>\n",
       "    </tr>\n",
       "    <tr>\n",
       "      <th>4</th>\n",
       "      <td>Baby-0006</td>\n",
       "      <td>WHITE</td>\n",
       "      <td>NOT HISPANIC</td>\n",
       "      <td>2011-06-01</td>\n",
       "      <td>3710.0</td>\n",
       "      <td>Vaginal, Spontaneous Delivery</td>\n",
       "      <td>2011-06-01</td>\n",
       "      <td>INTRAMURAL BIRTH</td>\n",
       "      <td>39 6/7</td>\n",
       "      <td>NaN</td>\n",
       "      <td>MALE</td>\n",
       "      <td>Mom-9003</td>\n",
       "      <td>25</td>\n",
       "      <td>Managed Care</td>\n",
       "    </tr>\n",
       "  </tbody>\n",
       "</table>\n",
       "</div>"
      ],
      "text/plain": [
       "     Baby-Id         Race     Ethnicity        DOB  Birth Weight (grams)  \\\n",
       "0  Baby-0616        WHITE  NOT HISPANIC 1902-01-01                3627.0   \n",
       "1  Baby-0002        WHITE  NOT HISPANIC 2011-06-01                3417.0   \n",
       "2  Baby-0003  MULTIRACIAL      HISPANIC 2011-06-01                3383.0   \n",
       "3  Baby-0005        WHITE  NOT HISPANIC 2011-06-01                3882.0   \n",
       "4  Baby-0006        WHITE  NOT HISPANIC 2011-06-01                3710.0   \n",
       "\n",
       "                   Delivery_Mode Admit Date      Admit Source Gestational_Age  \\\n",
       "0      C-Section, Low Transverse 2011-12-15  INTRAMURAL BIRTH          39 4/7   \n",
       "1  Vaginal, Spontaneous Delivery 2011-06-01  INTRAMURAL BIRTH          38 3/7   \n",
       "2      C-Section, Low Transverse 2011-06-01  INTRAMURAL BIRTH          40 4/7   \n",
       "3  Vaginal, Spontaneous Delivery 2011-06-01  INTRAMURAL BIRTH             NaN   \n",
       "4  Vaginal, Spontaneous Delivery 2011-06-01  INTRAMURAL BIRTH          39 6/7   \n",
       "\n",
       "   NICU LOS Baby Gender    Mom-Id  Mom Age         Payer  \n",
       "0       NaN        MALE  Mom-2592       29      Medicaid  \n",
       "1       NaN      FEMALE  Mom-1829       21      Medicaid  \n",
       "2       NaN        MALE  Mom-8494       19      Medicaid  \n",
       "3       NaN      FEMALE  Mom-6297       26      Medicaid  \n",
       "4       NaN        MALE  Mom-9003       25  Managed Care  "
      ]
     },
     "execution_count": 16,
     "metadata": {},
     "output_type": "execute_result"
    }
   ],
   "source": [
    "data.head()"
   ]
  },
  {
   "cell_type": "code",
   "execution_count": 17,
   "metadata": {},
   "outputs": [
    {
     "data": {
      "text/plain": [
       "Timestamp('2011-12-15 00:00:00')"
      ]
     },
     "execution_count": 17,
     "metadata": {},
     "output_type": "execute_result"
    }
   ],
   "source": [
    "data[\"Admit Date\"].iloc[0]"
   ]
  },
  {
   "cell_type": "code",
   "execution_count": 20,
   "metadata": {},
   "outputs": [],
   "source": [
    "# remove very preterm babies\n",
    "data_nonpreterm = data[data.Gestational_Age>\"27\"]"
   ]
  },
  {
   "cell_type": "code",
   "execution_count": 23,
   "metadata": {},
   "outputs": [
    {
     "data": {
      "text/html": [
       "<div>\n",
       "<style scoped>\n",
       "    .dataframe tbody tr th:only-of-type {\n",
       "        vertical-align: middle;\n",
       "    }\n",
       "\n",
       "    .dataframe tbody tr th {\n",
       "        vertical-align: top;\n",
       "    }\n",
       "\n",
       "    .dataframe thead th {\n",
       "        text-align: right;\n",
       "    }\n",
       "</style>\n",
       "<table border=\"1\" class=\"dataframe\">\n",
       "  <thead>\n",
       "    <tr style=\"text-align: right;\">\n",
       "      <th></th>\n",
       "      <th>Baby-Id</th>\n",
       "      <th>Race</th>\n",
       "      <th>Ethnicity</th>\n",
       "      <th>DOB</th>\n",
       "      <th>Birth Weight (grams)</th>\n",
       "      <th>Delivery_Mode</th>\n",
       "      <th>Admit Date</th>\n",
       "      <th>Admit Source</th>\n",
       "      <th>Gestational_Age</th>\n",
       "      <th>NICU LOS</th>\n",
       "      <th>Baby Gender</th>\n",
       "      <th>Mom-Id</th>\n",
       "      <th>Mom Age</th>\n",
       "      <th>Payer</th>\n",
       "    </tr>\n",
       "  </thead>\n",
       "  <tbody>\n",
       "    <tr>\n",
       "      <th>15680</th>\n",
       "      <td>Baby-15735</td>\n",
       "      <td>WHITE</td>\n",
       "      <td>NOT HISPANIC</td>\n",
       "      <td>2016-12-21</td>\n",
       "      <td>930.0</td>\n",
       "      <td>C-Section, Low Transverse</td>\n",
       "      <td>2016-12-21</td>\n",
       "      <td>INTRAMURAL BIRTH</td>\n",
       "      <td>27 1/7</td>\n",
       "      <td>67.0</td>\n",
       "      <td>FEMALE</td>\n",
       "      <td>Mom-13782</td>\n",
       "      <td>29</td>\n",
       "      <td>Managed Care</td>\n",
       "    </tr>\n",
       "    <tr>\n",
       "      <th>13442</th>\n",
       "      <td>Baby-13495</td>\n",
       "      <td>OTHER</td>\n",
       "      <td>HISPANIC</td>\n",
       "      <td>2016-03-07</td>\n",
       "      <td>826.0</td>\n",
       "      <td>NOT INCLUDED IN ORIGINAL SOURCE</td>\n",
       "      <td>2016-03-07</td>\n",
       "      <td>INTRAMURAL BIRTH</td>\n",
       "      <td>27 1/7</td>\n",
       "      <td>72.0</td>\n",
       "      <td>FEMALE</td>\n",
       "      <td>Mom-10020</td>\n",
       "      <td>28</td>\n",
       "      <td>Blue Cross</td>\n",
       "    </tr>\n",
       "    <tr>\n",
       "      <th>15125</th>\n",
       "      <td>Baby-15179</td>\n",
       "      <td>BLACK</td>\n",
       "      <td>NOT HISPANIC</td>\n",
       "      <td>2016-10-19</td>\n",
       "      <td>760.0</td>\n",
       "      <td>C-Section, Low Transverse</td>\n",
       "      <td>2016-10-19</td>\n",
       "      <td>INTRAMURAL BIRTH</td>\n",
       "      <td>27 1/7</td>\n",
       "      <td>32.0</td>\n",
       "      <td>FEMALE</td>\n",
       "      <td>Mom-4995</td>\n",
       "      <td>20</td>\n",
       "      <td>Medicaid HMO</td>\n",
       "    </tr>\n",
       "    <tr>\n",
       "      <th>10606</th>\n",
       "      <td>Baby-10651</td>\n",
       "      <td>WHITE</td>\n",
       "      <td>NOT HISPANIC</td>\n",
       "      <td>2015-02-27</td>\n",
       "      <td>824.0</td>\n",
       "      <td>C-Section, Classical</td>\n",
       "      <td>2015-02-27</td>\n",
       "      <td>INTRAMURAL BIRTH</td>\n",
       "      <td>27 1/7</td>\n",
       "      <td>39.0</td>\n",
       "      <td>FEMALE</td>\n",
       "      <td>Mom-8212</td>\n",
       "      <td>38</td>\n",
       "      <td>Blue Cross</td>\n",
       "    </tr>\n",
       "    <tr>\n",
       "      <th>9422</th>\n",
       "      <td>Baby-9461</td>\n",
       "      <td>MULTIRACIAL</td>\n",
       "      <td>NOT HISPANIC</td>\n",
       "      <td>2014-10-01</td>\n",
       "      <td>950.0</td>\n",
       "      <td>Vaginal, Spontaneous Delivery</td>\n",
       "      <td>2014-10-01</td>\n",
       "      <td>INTRAMURAL BIRTH</td>\n",
       "      <td>27 1/7</td>\n",
       "      <td>81.0</td>\n",
       "      <td>FEMALE</td>\n",
       "      <td>Mom-3167</td>\n",
       "      <td>20</td>\n",
       "      <td>Medicaid HMO</td>\n",
       "    </tr>\n",
       "  </tbody>\n",
       "</table>\n",
       "</div>"
      ],
      "text/plain": [
       "          Baby-Id         Race     Ethnicity        DOB  Birth Weight (grams)  \\\n",
       "15680  Baby-15735        WHITE  NOT HISPANIC 2016-12-21                 930.0   \n",
       "13442  Baby-13495        OTHER      HISPANIC 2016-03-07                 826.0   \n",
       "15125  Baby-15179        BLACK  NOT HISPANIC 2016-10-19                 760.0   \n",
       "10606  Baby-10651        WHITE  NOT HISPANIC 2015-02-27                 824.0   \n",
       "9422    Baby-9461  MULTIRACIAL  NOT HISPANIC 2014-10-01                 950.0   \n",
       "\n",
       "                         Delivery_Mode Admit Date      Admit Source  \\\n",
       "15680        C-Section, Low Transverse 2016-12-21  INTRAMURAL BIRTH   \n",
       "13442  NOT INCLUDED IN ORIGINAL SOURCE 2016-03-07  INTRAMURAL BIRTH   \n",
       "15125        C-Section, Low Transverse 2016-10-19  INTRAMURAL BIRTH   \n",
       "10606             C-Section, Classical 2015-02-27  INTRAMURAL BIRTH   \n",
       "9422     Vaginal, Spontaneous Delivery 2014-10-01  INTRAMURAL BIRTH   \n",
       "\n",
       "      Gestational_Age  NICU LOS Baby Gender     Mom-Id  Mom Age         Payer  \n",
       "15680          27 1/7      67.0      FEMALE  Mom-13782       29  Managed Care  \n",
       "13442          27 1/7      72.0      FEMALE  Mom-10020       28    Blue Cross  \n",
       "15125          27 1/7      32.0      FEMALE   Mom-4995       20  Medicaid HMO  \n",
       "10606          27 1/7      39.0      FEMALE   Mom-8212       38    Blue Cross  \n",
       "9422           27 1/7      81.0      FEMALE   Mom-3167       20  Medicaid HMO  "
      ]
     },
     "execution_count": 23,
     "metadata": {},
     "output_type": "execute_result"
    }
   ],
   "source": [
    "# Check if the smallest value of gestational age is valid\n",
    "data_nonpreterm.sort_values(by=\"Gestational_Age\").head()"
   ]
  },
  {
   "cell_type": "code",
   "execution_count": 24,
   "metadata": {},
   "outputs": [
    {
     "data": {
      "text/html": [
       "<div>\n",
       "<style scoped>\n",
       "    .dataframe tbody tr th:only-of-type {\n",
       "        vertical-align: middle;\n",
       "    }\n",
       "\n",
       "    .dataframe tbody tr th {\n",
       "        vertical-align: top;\n",
       "    }\n",
       "\n",
       "    .dataframe thead th {\n",
       "        text-align: right;\n",
       "    }\n",
       "</style>\n",
       "<table border=\"1\" class=\"dataframe\">\n",
       "  <thead>\n",
       "    <tr style=\"text-align: right;\">\n",
       "      <th></th>\n",
       "      <th>Baby-Id</th>\n",
       "      <th>Race</th>\n",
       "      <th>Ethnicity</th>\n",
       "      <th>DOB</th>\n",
       "      <th>Birth Weight (grams)</th>\n",
       "      <th>Delivery_Mode</th>\n",
       "      <th>Admit Date</th>\n",
       "      <th>Admit Source</th>\n",
       "      <th>Gestational_Age</th>\n",
       "      <th>NICU LOS</th>\n",
       "      <th>Baby Gender</th>\n",
       "      <th>Mom-Id</th>\n",
       "      <th>Mom Age</th>\n",
       "      <th>Payer</th>\n",
       "    </tr>\n",
       "  </thead>\n",
       "  <tbody>\n",
       "    <tr>\n",
       "      <th>10798</th>\n",
       "      <td>Baby-10841</td>\n",
       "      <td>WHITE</td>\n",
       "      <td>NOT HISPANIC</td>\n",
       "      <td>2015-03-24</td>\n",
       "      <td>3405.0</td>\n",
       "      <td>Vaginal, Spontaneous Delivery</td>\n",
       "      <td>2015-03-24</td>\n",
       "      <td>INTRAMURAL BIRTH</td>\n",
       "      <td>42 5/7</td>\n",
       "      <td>0.0</td>\n",
       "      <td>FEMALE</td>\n",
       "      <td>Mom-12507</td>\n",
       "      <td>26</td>\n",
       "      <td>Medicaid HMO</td>\n",
       "    </tr>\n",
       "    <tr>\n",
       "      <th>7674</th>\n",
       "      <td>Baby-7707</td>\n",
       "      <td>OTHER</td>\n",
       "      <td>HISPANIC</td>\n",
       "      <td>2014-02-04</td>\n",
       "      <td>4530.0</td>\n",
       "      <td>C-Section, Low Transverse</td>\n",
       "      <td>2014-02-04</td>\n",
       "      <td>INTRAMURAL BIRTH</td>\n",
       "      <td>42 6/7</td>\n",
       "      <td>NaN</td>\n",
       "      <td>MALE</td>\n",
       "      <td>Mom-3221</td>\n",
       "      <td>20</td>\n",
       "      <td>Medicaid</td>\n",
       "    </tr>\n",
       "    <tr>\n",
       "      <th>8886</th>\n",
       "      <td>Baby-8922</td>\n",
       "      <td>WHITE</td>\n",
       "      <td>NOT HISPANIC</td>\n",
       "      <td>2014-07-18</td>\n",
       "      <td>3921.0</td>\n",
       "      <td>Vaginal, Spontaneous Delivery</td>\n",
       "      <td>2014-07-18</td>\n",
       "      <td>INTRAMURAL BIRTH</td>\n",
       "      <td>42 6/7</td>\n",
       "      <td>NaN</td>\n",
       "      <td>MALE</td>\n",
       "      <td>Mom-3485</td>\n",
       "      <td>37</td>\n",
       "      <td>Medicaid HMO</td>\n",
       "    </tr>\n",
       "    <tr>\n",
       "      <th>5612</th>\n",
       "      <td>Baby-5634</td>\n",
       "      <td>OTHER</td>\n",
       "      <td>NOT HISPANIC</td>\n",
       "      <td>2013-05-18</td>\n",
       "      <td>3348.0</td>\n",
       "      <td>Vaginal, Spontaneous Delivery</td>\n",
       "      <td>2013-05-18</td>\n",
       "      <td>INTRAMURAL BIRTH</td>\n",
       "      <td>43</td>\n",
       "      <td>NaN</td>\n",
       "      <td>MALE</td>\n",
       "      <td>Mom-10504</td>\n",
       "      <td>33</td>\n",
       "      <td>SELF PAY</td>\n",
       "    </tr>\n",
       "    <tr>\n",
       "      <th>8476</th>\n",
       "      <td>Baby-8512</td>\n",
       "      <td>WHITE</td>\n",
       "      <td>NOT HISPANIC</td>\n",
       "      <td>2014-05-22</td>\n",
       "      <td>2380.0</td>\n",
       "      <td>Extramural Delivery</td>\n",
       "      <td>2014-05-22</td>\n",
       "      <td>EXTRAMURAL BIRTH</td>\n",
       "      <td>84 1/7</td>\n",
       "      <td>NaN</td>\n",
       "      <td>FEMALE</td>\n",
       "      <td>Mom-1974</td>\n",
       "      <td>23</td>\n",
       "      <td>Medicaid HMO</td>\n",
       "    </tr>\n",
       "  </tbody>\n",
       "</table>\n",
       "</div>"
      ],
      "text/plain": [
       "          Baby-Id   Race     Ethnicity        DOB  Birth Weight (grams)  \\\n",
       "10798  Baby-10841  WHITE  NOT HISPANIC 2015-03-24                3405.0   \n",
       "7674    Baby-7707  OTHER      HISPANIC 2014-02-04                4530.0   \n",
       "8886    Baby-8922  WHITE  NOT HISPANIC 2014-07-18                3921.0   \n",
       "5612    Baby-5634  OTHER  NOT HISPANIC 2013-05-18                3348.0   \n",
       "8476    Baby-8512  WHITE  NOT HISPANIC 2014-05-22                2380.0   \n",
       "\n",
       "                       Delivery_Mode Admit Date      Admit Source  \\\n",
       "10798  Vaginal, Spontaneous Delivery 2015-03-24  INTRAMURAL BIRTH   \n",
       "7674       C-Section, Low Transverse 2014-02-04  INTRAMURAL BIRTH   \n",
       "8886   Vaginal, Spontaneous Delivery 2014-07-18  INTRAMURAL BIRTH   \n",
       "5612   Vaginal, Spontaneous Delivery 2013-05-18  INTRAMURAL BIRTH   \n",
       "8476             Extramural Delivery 2014-05-22  EXTRAMURAL BIRTH   \n",
       "\n",
       "      Gestational_Age  NICU LOS Baby Gender     Mom-Id  Mom Age         Payer  \n",
       "10798          42 5/7       0.0      FEMALE  Mom-12507       26  Medicaid HMO  \n",
       "7674           42 6/7       NaN        MALE   Mom-3221       20      Medicaid  \n",
       "8886           42 6/7       NaN        MALE   Mom-3485       37  Medicaid HMO  \n",
       "5612               43       NaN        MALE  Mom-10504       33      SELF PAY  \n",
       "8476           84 1/7       NaN      FEMALE   Mom-1974       23  Medicaid HMO  "
      ]
     },
     "execution_count": 24,
     "metadata": {},
     "output_type": "execute_result"
    }
   ],
   "source": [
    "# Check if the biggest value of gestational age is valid\n",
    "data_nonpreterm.sort_values(by=\"Gestational_Age\").tail()"
   ]
  },
  {
   "cell_type": "code",
   "execution_count": 29,
   "metadata": {},
   "outputs": [
    {
     "data": {
      "text/html": [
       "<div>\n",
       "<style scoped>\n",
       "    .dataframe tbody tr th:only-of-type {\n",
       "        vertical-align: middle;\n",
       "    }\n",
       "\n",
       "    .dataframe tbody tr th {\n",
       "        vertical-align: top;\n",
       "    }\n",
       "\n",
       "    .dataframe thead th {\n",
       "        text-align: right;\n",
       "    }\n",
       "</style>\n",
       "<table border=\"1\" class=\"dataframe\">\n",
       "  <thead>\n",
       "    <tr style=\"text-align: right;\">\n",
       "      <th></th>\n",
       "      <th>Baby-Id</th>\n",
       "      <th>Race</th>\n",
       "      <th>Ethnicity</th>\n",
       "      <th>DOB</th>\n",
       "      <th>Birth Weight (grams)</th>\n",
       "      <th>Delivery_Mode</th>\n",
       "      <th>Admit Date</th>\n",
       "      <th>Admit Source</th>\n",
       "      <th>Gestational_Age</th>\n",
       "      <th>NICU LOS</th>\n",
       "      <th>Baby Gender</th>\n",
       "      <th>Mom-Id</th>\n",
       "      <th>Mom Age</th>\n",
       "      <th>Payer</th>\n",
       "    </tr>\n",
       "  </thead>\n",
       "  <tbody>\n",
       "    <tr>\n",
       "      <th>0</th>\n",
       "      <td>Baby-0616</td>\n",
       "      <td>WHITE</td>\n",
       "      <td>NOT HISPANIC</td>\n",
       "      <td>1902-01-01</td>\n",
       "      <td>3627.0</td>\n",
       "      <td>C-Section, Low Transverse</td>\n",
       "      <td>2011-12-15</td>\n",
       "      <td>INTRAMURAL BIRTH</td>\n",
       "      <td>39 4/7</td>\n",
       "      <td>NaN</td>\n",
       "      <td>MALE</td>\n",
       "      <td>Mom-2592</td>\n",
       "      <td>29</td>\n",
       "      <td>Medicaid</td>\n",
       "    </tr>\n",
       "    <tr>\n",
       "      <th>1</th>\n",
       "      <td>Baby-0002</td>\n",
       "      <td>WHITE</td>\n",
       "      <td>NOT HISPANIC</td>\n",
       "      <td>2011-06-01</td>\n",
       "      <td>3417.0</td>\n",
       "      <td>Vaginal, Spontaneous Delivery</td>\n",
       "      <td>2011-06-01</td>\n",
       "      <td>INTRAMURAL BIRTH</td>\n",
       "      <td>38 3/7</td>\n",
       "      <td>NaN</td>\n",
       "      <td>FEMALE</td>\n",
       "      <td>Mom-1829</td>\n",
       "      <td>21</td>\n",
       "      <td>Medicaid</td>\n",
       "    </tr>\n",
       "    <tr>\n",
       "      <th>2</th>\n",
       "      <td>Baby-0003</td>\n",
       "      <td>MULTIRACIAL</td>\n",
       "      <td>HISPANIC</td>\n",
       "      <td>2011-06-01</td>\n",
       "      <td>3383.0</td>\n",
       "      <td>C-Section, Low Transverse</td>\n",
       "      <td>2011-06-01</td>\n",
       "      <td>INTRAMURAL BIRTH</td>\n",
       "      <td>40 4/7</td>\n",
       "      <td>NaN</td>\n",
       "      <td>MALE</td>\n",
       "      <td>Mom-8494</td>\n",
       "      <td>19</td>\n",
       "      <td>Medicaid</td>\n",
       "    </tr>\n",
       "    <tr>\n",
       "      <th>4</th>\n",
       "      <td>Baby-0006</td>\n",
       "      <td>WHITE</td>\n",
       "      <td>NOT HISPANIC</td>\n",
       "      <td>2011-06-01</td>\n",
       "      <td>3710.0</td>\n",
       "      <td>Vaginal, Spontaneous Delivery</td>\n",
       "      <td>2011-06-01</td>\n",
       "      <td>INTRAMURAL BIRTH</td>\n",
       "      <td>39 6/7</td>\n",
       "      <td>NaN</td>\n",
       "      <td>MALE</td>\n",
       "      <td>Mom-9003</td>\n",
       "      <td>25</td>\n",
       "      <td>Managed Care</td>\n",
       "    </tr>\n",
       "    <tr>\n",
       "      <th>5</th>\n",
       "      <td>Baby-0007</td>\n",
       "      <td>HISPANIC</td>\n",
       "      <td>HISPANIC</td>\n",
       "      <td>2011-06-01</td>\n",
       "      <td>3302.0</td>\n",
       "      <td>Vaginal, Spontaneous Delivery</td>\n",
       "      <td>2011-06-01</td>\n",
       "      <td>INTRAMURAL BIRTH</td>\n",
       "      <td>38 5/7</td>\n",
       "      <td>NaN</td>\n",
       "      <td>FEMALE</td>\n",
       "      <td>Mom-2549</td>\n",
       "      <td>17</td>\n",
       "      <td>Medicaid</td>\n",
       "    </tr>\n",
       "  </tbody>\n",
       "</table>\n",
       "</div>"
      ],
      "text/plain": [
       "     Baby-Id         Race     Ethnicity        DOB  Birth Weight (grams)  \\\n",
       "0  Baby-0616        WHITE  NOT HISPANIC 1902-01-01                3627.0   \n",
       "1  Baby-0002        WHITE  NOT HISPANIC 2011-06-01                3417.0   \n",
       "2  Baby-0003  MULTIRACIAL      HISPANIC 2011-06-01                3383.0   \n",
       "4  Baby-0006        WHITE  NOT HISPANIC 2011-06-01                3710.0   \n",
       "5  Baby-0007     HISPANIC      HISPANIC 2011-06-01                3302.0   \n",
       "\n",
       "                   Delivery_Mode Admit Date      Admit Source Gestational_Age  \\\n",
       "0      C-Section, Low Transverse 2011-12-15  INTRAMURAL BIRTH          39 4/7   \n",
       "1  Vaginal, Spontaneous Delivery 2011-06-01  INTRAMURAL BIRTH          38 3/7   \n",
       "2      C-Section, Low Transverse 2011-06-01  INTRAMURAL BIRTH          40 4/7   \n",
       "4  Vaginal, Spontaneous Delivery 2011-06-01  INTRAMURAL BIRTH          39 6/7   \n",
       "5  Vaginal, Spontaneous Delivery 2011-06-01  INTRAMURAL BIRTH          38 5/7   \n",
       "\n",
       "   NICU LOS Baby Gender    Mom-Id  Mom Age         Payer  \n",
       "0       NaN        MALE  Mom-2592       29      Medicaid  \n",
       "1       NaN      FEMALE  Mom-1829       21      Medicaid  \n",
       "2       NaN        MALE  Mom-8494       19      Medicaid  \n",
       "4       NaN        MALE  Mom-9003       25  Managed Care  \n",
       "5       NaN      FEMALE  Mom-2549       17      Medicaid  "
      ]
     },
     "execution_count": 29,
     "metadata": {},
     "output_type": "execute_result"
    }
   ],
   "source": [
    "# Check the earliest date of births\n",
    "data_nonpreterm.sort_values(by=\"DOB\").head()"
   ]
  },
  {
   "cell_type": "code",
   "execution_count": 30,
   "metadata": {},
   "outputs": [
    {
     "data": {
      "text/html": [
       "<div>\n",
       "<style scoped>\n",
       "    .dataframe tbody tr th:only-of-type {\n",
       "        vertical-align: middle;\n",
       "    }\n",
       "\n",
       "    .dataframe tbody tr th {\n",
       "        vertical-align: top;\n",
       "    }\n",
       "\n",
       "    .dataframe thead th {\n",
       "        text-align: right;\n",
       "    }\n",
       "</style>\n",
       "<table border=\"1\" class=\"dataframe\">\n",
       "  <thead>\n",
       "    <tr style=\"text-align: right;\">\n",
       "      <th></th>\n",
       "      <th>Baby-Id</th>\n",
       "      <th>Race</th>\n",
       "      <th>Ethnicity</th>\n",
       "      <th>DOB</th>\n",
       "      <th>Birth Weight (grams)</th>\n",
       "      <th>Delivery_Mode</th>\n",
       "      <th>Admit Date</th>\n",
       "      <th>Admit Source</th>\n",
       "      <th>Gestational_Age</th>\n",
       "      <th>NICU LOS</th>\n",
       "      <th>Baby Gender</th>\n",
       "      <th>Mom-Id</th>\n",
       "      <th>Mom Age</th>\n",
       "      <th>Payer</th>\n",
       "    </tr>\n",
       "  </thead>\n",
       "  <tbody>\n",
       "    <tr>\n",
       "      <th>16616</th>\n",
       "      <td>Baby-16672</td>\n",
       "      <td>WHITE</td>\n",
       "      <td>NOT HISPANIC</td>\n",
       "      <td>2017-04-29</td>\n",
       "      <td>4286.0</td>\n",
       "      <td>C-Section, Low Transverse</td>\n",
       "      <td>2017-04-29</td>\n",
       "      <td>INTRAMURAL BIRTH</td>\n",
       "      <td>38 4/7</td>\n",
       "      <td>NaN</td>\n",
       "      <td>MALE</td>\n",
       "      <td>Mom-13390</td>\n",
       "      <td>23</td>\n",
       "      <td>Blue Cross</td>\n",
       "    </tr>\n",
       "    <tr>\n",
       "      <th>16618</th>\n",
       "      <td>Baby-16674</td>\n",
       "      <td>WHITE</td>\n",
       "      <td>NOT HISPANIC</td>\n",
       "      <td>2017-04-29</td>\n",
       "      <td>3302.0</td>\n",
       "      <td>Vaginal, Spontaneous Delivery</td>\n",
       "      <td>2017-04-29</td>\n",
       "      <td>INTRAMURAL BIRTH</td>\n",
       "      <td>38 6/7</td>\n",
       "      <td>NaN</td>\n",
       "      <td>MALE</td>\n",
       "      <td>Mom-3340</td>\n",
       "      <td>22</td>\n",
       "      <td>Managed Care</td>\n",
       "    </tr>\n",
       "    <tr>\n",
       "      <th>16620</th>\n",
       "      <td>Baby-16676</td>\n",
       "      <td>BLACK</td>\n",
       "      <td>NOT HISPANIC</td>\n",
       "      <td>2017-04-30</td>\n",
       "      <td>3165.0</td>\n",
       "      <td>Vaginal, Spontaneous Delivery</td>\n",
       "      <td>2017-04-30</td>\n",
       "      <td>INTRAMURAL BIRTH</td>\n",
       "      <td>41</td>\n",
       "      <td>NaN</td>\n",
       "      <td>MALE</td>\n",
       "      <td>Mom-13670</td>\n",
       "      <td>25</td>\n",
       "      <td>Medicaid HMO</td>\n",
       "    </tr>\n",
       "    <tr>\n",
       "      <th>16619</th>\n",
       "      <td>Baby-16675</td>\n",
       "      <td>BLACK</td>\n",
       "      <td>NOT HISPANIC</td>\n",
       "      <td>2017-04-30</td>\n",
       "      <td>2981.0</td>\n",
       "      <td>Vaginal, Spontaneous Delivery</td>\n",
       "      <td>2017-04-30</td>\n",
       "      <td>INTRAMURAL BIRTH</td>\n",
       "      <td>39 2/7</td>\n",
       "      <td>NaN</td>\n",
       "      <td>FEMALE</td>\n",
       "      <td>Mom-13736</td>\n",
       "      <td>39</td>\n",
       "      <td>Medicaid HMO</td>\n",
       "    </tr>\n",
       "    <tr>\n",
       "      <th>16621</th>\n",
       "      <td>Baby-16677</td>\n",
       "      <td>WHITE</td>\n",
       "      <td>NOT HISPANIC</td>\n",
       "      <td>2017-04-30</td>\n",
       "      <td>4310.0</td>\n",
       "      <td>Vaginal, Spontaneous Delivery</td>\n",
       "      <td>2017-04-30</td>\n",
       "      <td>INTRAMURAL BIRTH</td>\n",
       "      <td>39 6/7</td>\n",
       "      <td>NaN</td>\n",
       "      <td>MALE</td>\n",
       "      <td>Mom-12687</td>\n",
       "      <td>40</td>\n",
       "      <td>Medicaid</td>\n",
       "    </tr>\n",
       "  </tbody>\n",
       "</table>\n",
       "</div>"
      ],
      "text/plain": [
       "          Baby-Id   Race     Ethnicity        DOB  Birth Weight (grams)  \\\n",
       "16616  Baby-16672  WHITE  NOT HISPANIC 2017-04-29                4286.0   \n",
       "16618  Baby-16674  WHITE  NOT HISPANIC 2017-04-29                3302.0   \n",
       "16620  Baby-16676  BLACK  NOT HISPANIC 2017-04-30                3165.0   \n",
       "16619  Baby-16675  BLACK  NOT HISPANIC 2017-04-30                2981.0   \n",
       "16621  Baby-16677  WHITE  NOT HISPANIC 2017-04-30                4310.0   \n",
       "\n",
       "                       Delivery_Mode Admit Date      Admit Source  \\\n",
       "16616      C-Section, Low Transverse 2017-04-29  INTRAMURAL BIRTH   \n",
       "16618  Vaginal, Spontaneous Delivery 2017-04-29  INTRAMURAL BIRTH   \n",
       "16620  Vaginal, Spontaneous Delivery 2017-04-30  INTRAMURAL BIRTH   \n",
       "16619  Vaginal, Spontaneous Delivery 2017-04-30  INTRAMURAL BIRTH   \n",
       "16621  Vaginal, Spontaneous Delivery 2017-04-30  INTRAMURAL BIRTH   \n",
       "\n",
       "      Gestational_Age  NICU LOS Baby Gender     Mom-Id  Mom Age         Payer  \n",
       "16616          38 4/7       NaN        MALE  Mom-13390       23    Blue Cross  \n",
       "16618          38 6/7       NaN        MALE   Mom-3340       22  Managed Care  \n",
       "16620              41       NaN        MALE  Mom-13670       25  Medicaid HMO  \n",
       "16619          39 2/7       NaN      FEMALE  Mom-13736       39  Medicaid HMO  \n",
       "16621          39 6/7       NaN        MALE  Mom-12687       40      Medicaid  "
      ]
     },
     "execution_count": 30,
     "metadata": {},
     "output_type": "execute_result"
    }
   ],
   "source": [
    "# Check the latest date of births\n",
    "data_nonpreterm.sort_values(by=\"DOB\").tail()"
   ]
  },
  {
   "cell_type": "markdown",
   "metadata": {},
   "source": [
    "Use DOB of 2012-2016 to calculate the average value since 2011 does not have May while 2017 does not have May-August"
   ]
  },
  {
   "cell_type": "code",
   "execution_count": 33,
   "metadata": {},
   "outputs": [],
   "source": [
    "data_2012_summer = data_nonpreterm[(data_nonpreterm['DOB'] > '2012-05-01 00:00:00') & (data_nonpreterm['DOB'] < '2012-08-31 23:59:59')]\n",
    "data_2013_summer = data_nonpreterm[(data_nonpreterm['DOB'] > '2013-05-01 00:00:00') & (data_nonpreterm['DOB'] < '2013-08-31 23:59:59')]\n",
    "data_2014_summer = data_nonpreterm[(data_nonpreterm['DOB'] > '2014-05-01 00:00:00') & (data_nonpreterm['DOB'] < '2014-08-31 23:59:59')]\n",
    "data_2015_summer = data_nonpreterm[(data_nonpreterm['DOB'] > '2015-05-01 00:00:00') & (data_nonpreterm['DOB'] < '2015-08-31 23:59:59')]\n",
    "data_2016_summer = data_nonpreterm[(data_nonpreterm['DOB'] > '2016-05-01 00:00:00') & (data_nonpreterm['DOB'] < '2016-08-31 23:59:59')]"
   ]
  },
  {
   "cell_type": "code",
   "execution_count": 40,
   "metadata": {},
   "outputs": [
    {
     "data": {
      "text/plain": [
       "4233"
      ]
     },
     "execution_count": 40,
     "metadata": {},
     "output_type": "execute_result"
    }
   ],
   "source": [
    "# number of babies born during 2012-2016 summer\n",
    "len(list(data_2012_summer[\"Mom-Id\"]) + \\\n",
    "              list(data_2013_summer[\"Mom-Id\"]) + \\\n",
    "              list(data_2014_summer[\"Mom-Id\"]) + \\\n",
    "              list(data_2015_summer[\"Mom-Id\"]) + \\\n",
    "              list(data_2016_summer[\"Mom-Id\"]))"
   ]
  },
  {
   "cell_type": "code",
   "execution_count": 62,
   "metadata": {},
   "outputs": [
    {
     "data": {
      "text/plain": [
       "3963"
      ]
     },
     "execution_count": 62,
     "metadata": {},
     "output_type": "execute_result"
    }
   ],
   "source": [
    "# number of moms deliverying during 2012-2016 summer\n",
    "mom_ids = set(list(data_2012_summer[\"Mom-Id\"]) + \\\n",
    "              list(data_2013_summer[\"Mom-Id\"]) + \\\n",
    "              list(data_2014_summer[\"Mom-Id\"]) + \\\n",
    "              list(data_2015_summer[\"Mom-Id\"]) + \\\n",
    "              list(data_2016_summer[\"Mom-Id\"]))\n",
    "# remove nan from the set\n",
    "mom_ids = {x for x in mom_ids if x==x}\n",
    "len(mom_ids)"
   ]
  },
  {
   "cell_type": "code",
   "execution_count": 63,
   "metadata": {},
   "outputs": [
    {
     "data": {
      "text/plain": [
       "792.6"
      ]
     },
     "execution_count": 63,
     "metadata": {},
     "output_type": "execute_result"
    }
   ],
   "source": [
    "# average number of moms deliverying during 2012-2016 summer\n",
    "len(mom_ids)/5"
   ]
  },
  {
   "cell_type": "code",
   "execution_count": 64,
   "metadata": {},
   "outputs": [
    {
     "data": {
      "text/plain": [
       "206.0"
      ]
     },
     "execution_count": 64,
     "metadata": {},
     "output_type": "execute_result"
    }
   ],
   "source": [
    "# average number of moms deliverying during 2012-2016 May\n",
    "len(data[data.DOB.dt.month==5][\"Mom-Id\"].ffill().unique())/5"
   ]
  },
  {
   "cell_type": "code",
   "execution_count": 65,
   "metadata": {},
   "outputs": [
    {
     "data": {
      "text/plain": [
       "253.8"
      ]
     },
     "execution_count": 65,
     "metadata": {},
     "output_type": "execute_result"
    }
   ],
   "source": [
    "# average number of moms deliverying during 2011-2016 June\n",
    "len(data[data.DOB.dt.month==6][\"Mom-Id\"].ffill().unique())/5"
   ]
  },
  {
   "cell_type": "code",
   "execution_count": 66,
   "metadata": {},
   "outputs": [
    {
     "data": {
      "text/plain": [
       "273.4"
      ]
     },
     "execution_count": 66,
     "metadata": {},
     "output_type": "execute_result"
    }
   ],
   "source": [
    "# average number of moms deliverying during 2011-2016 July\n",
    "len(data[data.DOB.dt.month==7][\"Mom-Id\"].ffill().unique())/5"
   ]
  },
  {
   "cell_type": "code",
   "execution_count": 68,
   "metadata": {},
   "outputs": [
    {
     "data": {
      "text/plain": [
       "284.2"
      ]
     },
     "execution_count": 68,
     "metadata": {},
     "output_type": "execute_result"
    }
   ],
   "source": [
    "# average number of moms deliverying during 2011-2016 August\n",
    "len(data[data.DOB.dt.month==8][\"Mom-Id\"].ffill().unique())/5"
   ]
  },
  {
   "cell_type": "code",
   "execution_count": null,
   "metadata": {},
   "outputs": [],
   "source": []
  }
 ],
 "metadata": {
  "kernelspec": {
   "display_name": "Python 3",
   "language": "python",
   "name": "python3"
  },
  "language_info": {
   "codemirror_mode": {
    "name": "ipython",
    "version": 3
   },
   "file_extension": ".py",
   "mimetype": "text/x-python",
   "name": "python",
   "nbconvert_exporter": "python",
   "pygments_lexer": "ipython3",
   "version": "3.6.8"
  }
 },
 "nbformat": 4,
 "nbformat_minor": 2
}
